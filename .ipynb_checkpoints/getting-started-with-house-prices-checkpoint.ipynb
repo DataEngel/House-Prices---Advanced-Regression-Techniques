{
 "cells": [
  {
   "cell_type": "code",
   "execution_count": 3,
   "metadata": {
    "_cell_guid": "b1076dfc-b9ad-4769-8c92-a6c4dae69d19",
    "_uuid": "8f2839f25d086af736a60e9eeb907d3b93b6e0e5",
    "execution": {
     "iopub.execute_input": "2021-03-02T04:08:24.787199Z",
     "iopub.status.busy": "2021-03-02T04:08:24.786152Z",
     "iopub.status.idle": "2021-03-02T04:08:25.888281Z",
     "shell.execute_reply": "2021-03-02T04:08:25.888939Z"
    },
    "papermill": {
     "duration": 1.125774,
     "end_time": "2021-03-02T04:08:25.889262",
     "exception": false,
     "start_time": "2021-03-02T04:08:24.763488",
     "status": "completed"
    },
    "tags": []
   },
   "outputs": [
    {
     "data": {
      "text/html": [
       "<div>\n",
       "<style scoped>\n",
       "    .dataframe tbody tr th:only-of-type {\n",
       "        vertical-align: middle;\n",
       "    }\n",
       "\n",
       "    .dataframe tbody tr th {\n",
       "        vertical-align: top;\n",
       "    }\n",
       "\n",
       "    .dataframe thead th {\n",
       "        text-align: right;\n",
       "    }\n",
       "</style>\n",
       "<table border=\"1\" class=\"dataframe\">\n",
       "  <thead>\n",
       "    <tr style=\"text-align: right;\">\n",
       "      <th></th>\n",
       "      <th>Id</th>\n",
       "      <th>MSSubClass</th>\n",
       "      <th>MSZoning</th>\n",
       "      <th>LotFrontage</th>\n",
       "      <th>LotArea</th>\n",
       "      <th>Street</th>\n",
       "      <th>Alley</th>\n",
       "      <th>LotShape</th>\n",
       "      <th>LandContour</th>\n",
       "      <th>Utilities</th>\n",
       "      <th>...</th>\n",
       "      <th>ScreenPorch</th>\n",
       "      <th>PoolArea</th>\n",
       "      <th>PoolQC</th>\n",
       "      <th>Fence</th>\n",
       "      <th>MiscFeature</th>\n",
       "      <th>MiscVal</th>\n",
       "      <th>MoSold</th>\n",
       "      <th>YrSold</th>\n",
       "      <th>SaleType</th>\n",
       "      <th>SaleCondition</th>\n",
       "    </tr>\n",
       "  </thead>\n",
       "  <tbody>\n",
       "    <tr>\n",
       "      <th>0</th>\n",
       "      <td>1461</td>\n",
       "      <td>20</td>\n",
       "      <td>RH</td>\n",
       "      <td>80.0</td>\n",
       "      <td>11622</td>\n",
       "      <td>Pave</td>\n",
       "      <td>NaN</td>\n",
       "      <td>Reg</td>\n",
       "      <td>Lvl</td>\n",
       "      <td>AllPub</td>\n",
       "      <td>...</td>\n",
       "      <td>120</td>\n",
       "      <td>0</td>\n",
       "      <td>NaN</td>\n",
       "      <td>MnPrv</td>\n",
       "      <td>NaN</td>\n",
       "      <td>0</td>\n",
       "      <td>6</td>\n",
       "      <td>2010</td>\n",
       "      <td>WD</td>\n",
       "      <td>Normal</td>\n",
       "    </tr>\n",
       "    <tr>\n",
       "      <th>1</th>\n",
       "      <td>1462</td>\n",
       "      <td>20</td>\n",
       "      <td>RL</td>\n",
       "      <td>81.0</td>\n",
       "      <td>14267</td>\n",
       "      <td>Pave</td>\n",
       "      <td>NaN</td>\n",
       "      <td>IR1</td>\n",
       "      <td>Lvl</td>\n",
       "      <td>AllPub</td>\n",
       "      <td>...</td>\n",
       "      <td>0</td>\n",
       "      <td>0</td>\n",
       "      <td>NaN</td>\n",
       "      <td>NaN</td>\n",
       "      <td>Gar2</td>\n",
       "      <td>12500</td>\n",
       "      <td>6</td>\n",
       "      <td>2010</td>\n",
       "      <td>WD</td>\n",
       "      <td>Normal</td>\n",
       "    </tr>\n",
       "    <tr>\n",
       "      <th>2</th>\n",
       "      <td>1463</td>\n",
       "      <td>60</td>\n",
       "      <td>RL</td>\n",
       "      <td>74.0</td>\n",
       "      <td>13830</td>\n",
       "      <td>Pave</td>\n",
       "      <td>NaN</td>\n",
       "      <td>IR1</td>\n",
       "      <td>Lvl</td>\n",
       "      <td>AllPub</td>\n",
       "      <td>...</td>\n",
       "      <td>0</td>\n",
       "      <td>0</td>\n",
       "      <td>NaN</td>\n",
       "      <td>MnPrv</td>\n",
       "      <td>NaN</td>\n",
       "      <td>0</td>\n",
       "      <td>3</td>\n",
       "      <td>2010</td>\n",
       "      <td>WD</td>\n",
       "      <td>Normal</td>\n",
       "    </tr>\n",
       "    <tr>\n",
       "      <th>3</th>\n",
       "      <td>1464</td>\n",
       "      <td>60</td>\n",
       "      <td>RL</td>\n",
       "      <td>78.0</td>\n",
       "      <td>9978</td>\n",
       "      <td>Pave</td>\n",
       "      <td>NaN</td>\n",
       "      <td>IR1</td>\n",
       "      <td>Lvl</td>\n",
       "      <td>AllPub</td>\n",
       "      <td>...</td>\n",
       "      <td>0</td>\n",
       "      <td>0</td>\n",
       "      <td>NaN</td>\n",
       "      <td>NaN</td>\n",
       "      <td>NaN</td>\n",
       "      <td>0</td>\n",
       "      <td>6</td>\n",
       "      <td>2010</td>\n",
       "      <td>WD</td>\n",
       "      <td>Normal</td>\n",
       "    </tr>\n",
       "    <tr>\n",
       "      <th>4</th>\n",
       "      <td>1465</td>\n",
       "      <td>120</td>\n",
       "      <td>RL</td>\n",
       "      <td>43.0</td>\n",
       "      <td>5005</td>\n",
       "      <td>Pave</td>\n",
       "      <td>NaN</td>\n",
       "      <td>IR1</td>\n",
       "      <td>HLS</td>\n",
       "      <td>AllPub</td>\n",
       "      <td>...</td>\n",
       "      <td>144</td>\n",
       "      <td>0</td>\n",
       "      <td>NaN</td>\n",
       "      <td>NaN</td>\n",
       "      <td>NaN</td>\n",
       "      <td>0</td>\n",
       "      <td>1</td>\n",
       "      <td>2010</td>\n",
       "      <td>WD</td>\n",
       "      <td>Normal</td>\n",
       "    </tr>\n",
       "    <tr>\n",
       "      <th>...</th>\n",
       "      <td>...</td>\n",
       "      <td>...</td>\n",
       "      <td>...</td>\n",
       "      <td>...</td>\n",
       "      <td>...</td>\n",
       "      <td>...</td>\n",
       "      <td>...</td>\n",
       "      <td>...</td>\n",
       "      <td>...</td>\n",
       "      <td>...</td>\n",
       "      <td>...</td>\n",
       "      <td>...</td>\n",
       "      <td>...</td>\n",
       "      <td>...</td>\n",
       "      <td>...</td>\n",
       "      <td>...</td>\n",
       "      <td>...</td>\n",
       "      <td>...</td>\n",
       "      <td>...</td>\n",
       "      <td>...</td>\n",
       "      <td>...</td>\n",
       "    </tr>\n",
       "    <tr>\n",
       "      <th>1454</th>\n",
       "      <td>2915</td>\n",
       "      <td>160</td>\n",
       "      <td>RM</td>\n",
       "      <td>21.0</td>\n",
       "      <td>1936</td>\n",
       "      <td>Pave</td>\n",
       "      <td>NaN</td>\n",
       "      <td>Reg</td>\n",
       "      <td>Lvl</td>\n",
       "      <td>AllPub</td>\n",
       "      <td>...</td>\n",
       "      <td>0</td>\n",
       "      <td>0</td>\n",
       "      <td>NaN</td>\n",
       "      <td>NaN</td>\n",
       "      <td>NaN</td>\n",
       "      <td>0</td>\n",
       "      <td>6</td>\n",
       "      <td>2006</td>\n",
       "      <td>WD</td>\n",
       "      <td>Normal</td>\n",
       "    </tr>\n",
       "    <tr>\n",
       "      <th>1455</th>\n",
       "      <td>2916</td>\n",
       "      <td>160</td>\n",
       "      <td>RM</td>\n",
       "      <td>21.0</td>\n",
       "      <td>1894</td>\n",
       "      <td>Pave</td>\n",
       "      <td>NaN</td>\n",
       "      <td>Reg</td>\n",
       "      <td>Lvl</td>\n",
       "      <td>AllPub</td>\n",
       "      <td>...</td>\n",
       "      <td>0</td>\n",
       "      <td>0</td>\n",
       "      <td>NaN</td>\n",
       "      <td>NaN</td>\n",
       "      <td>NaN</td>\n",
       "      <td>0</td>\n",
       "      <td>4</td>\n",
       "      <td>2006</td>\n",
       "      <td>WD</td>\n",
       "      <td>Abnorml</td>\n",
       "    </tr>\n",
       "    <tr>\n",
       "      <th>1456</th>\n",
       "      <td>2917</td>\n",
       "      <td>20</td>\n",
       "      <td>RL</td>\n",
       "      <td>160.0</td>\n",
       "      <td>20000</td>\n",
       "      <td>Pave</td>\n",
       "      <td>NaN</td>\n",
       "      <td>Reg</td>\n",
       "      <td>Lvl</td>\n",
       "      <td>AllPub</td>\n",
       "      <td>...</td>\n",
       "      <td>0</td>\n",
       "      <td>0</td>\n",
       "      <td>NaN</td>\n",
       "      <td>NaN</td>\n",
       "      <td>NaN</td>\n",
       "      <td>0</td>\n",
       "      <td>9</td>\n",
       "      <td>2006</td>\n",
       "      <td>WD</td>\n",
       "      <td>Abnorml</td>\n",
       "    </tr>\n",
       "    <tr>\n",
       "      <th>1457</th>\n",
       "      <td>2918</td>\n",
       "      <td>85</td>\n",
       "      <td>RL</td>\n",
       "      <td>62.0</td>\n",
       "      <td>10441</td>\n",
       "      <td>Pave</td>\n",
       "      <td>NaN</td>\n",
       "      <td>Reg</td>\n",
       "      <td>Lvl</td>\n",
       "      <td>AllPub</td>\n",
       "      <td>...</td>\n",
       "      <td>0</td>\n",
       "      <td>0</td>\n",
       "      <td>NaN</td>\n",
       "      <td>MnPrv</td>\n",
       "      <td>Shed</td>\n",
       "      <td>700</td>\n",
       "      <td>7</td>\n",
       "      <td>2006</td>\n",
       "      <td>WD</td>\n",
       "      <td>Normal</td>\n",
       "    </tr>\n",
       "    <tr>\n",
       "      <th>1458</th>\n",
       "      <td>2919</td>\n",
       "      <td>60</td>\n",
       "      <td>RL</td>\n",
       "      <td>74.0</td>\n",
       "      <td>9627</td>\n",
       "      <td>Pave</td>\n",
       "      <td>NaN</td>\n",
       "      <td>Reg</td>\n",
       "      <td>Lvl</td>\n",
       "      <td>AllPub</td>\n",
       "      <td>...</td>\n",
       "      <td>0</td>\n",
       "      <td>0</td>\n",
       "      <td>NaN</td>\n",
       "      <td>NaN</td>\n",
       "      <td>NaN</td>\n",
       "      <td>0</td>\n",
       "      <td>11</td>\n",
       "      <td>2006</td>\n",
       "      <td>WD</td>\n",
       "      <td>Normal</td>\n",
       "    </tr>\n",
       "  </tbody>\n",
       "</table>\n",
       "<p>1459 rows × 80 columns</p>\n",
       "</div>"
      ],
      "text/plain": [
       "        Id  MSSubClass MSZoning  LotFrontage  LotArea Street Alley LotShape  \\\n",
       "0     1461          20       RH         80.0    11622   Pave   NaN      Reg   \n",
       "1     1462          20       RL         81.0    14267   Pave   NaN      IR1   \n",
       "2     1463          60       RL         74.0    13830   Pave   NaN      IR1   \n",
       "3     1464          60       RL         78.0     9978   Pave   NaN      IR1   \n",
       "4     1465         120       RL         43.0     5005   Pave   NaN      IR1   \n",
       "...    ...         ...      ...          ...      ...    ...   ...      ...   \n",
       "1454  2915         160       RM         21.0     1936   Pave   NaN      Reg   \n",
       "1455  2916         160       RM         21.0     1894   Pave   NaN      Reg   \n",
       "1456  2917          20       RL        160.0    20000   Pave   NaN      Reg   \n",
       "1457  2918          85       RL         62.0    10441   Pave   NaN      Reg   \n",
       "1458  2919          60       RL         74.0     9627   Pave   NaN      Reg   \n",
       "\n",
       "     LandContour Utilities  ... ScreenPorch PoolArea PoolQC  Fence  \\\n",
       "0            Lvl    AllPub  ...         120        0    NaN  MnPrv   \n",
       "1            Lvl    AllPub  ...           0        0    NaN    NaN   \n",
       "2            Lvl    AllPub  ...           0        0    NaN  MnPrv   \n",
       "3            Lvl    AllPub  ...           0        0    NaN    NaN   \n",
       "4            HLS    AllPub  ...         144        0    NaN    NaN   \n",
       "...          ...       ...  ...         ...      ...    ...    ...   \n",
       "1454         Lvl    AllPub  ...           0        0    NaN    NaN   \n",
       "1455         Lvl    AllPub  ...           0        0    NaN    NaN   \n",
       "1456         Lvl    AllPub  ...           0        0    NaN    NaN   \n",
       "1457         Lvl    AllPub  ...           0        0    NaN  MnPrv   \n",
       "1458         Lvl    AllPub  ...           0        0    NaN    NaN   \n",
       "\n",
       "     MiscFeature MiscVal MoSold  YrSold  SaleType  SaleCondition  \n",
       "0            NaN       0      6    2010        WD         Normal  \n",
       "1           Gar2   12500      6    2010        WD         Normal  \n",
       "2            NaN       0      3    2010        WD         Normal  \n",
       "3            NaN       0      6    2010        WD         Normal  \n",
       "4            NaN       0      1    2010        WD         Normal  \n",
       "...          ...     ...    ...     ...       ...            ...  \n",
       "1454         NaN       0      6    2006        WD         Normal  \n",
       "1455         NaN       0      4    2006        WD        Abnorml  \n",
       "1456         NaN       0      9    2006        WD        Abnorml  \n",
       "1457        Shed     700      7    2006        WD         Normal  \n",
       "1458         NaN       0     11    2006        WD         Normal  \n",
       "\n",
       "[1459 rows x 80 columns]"
      ]
     },
     "execution_count": 3,
     "metadata": {},
     "output_type": "execute_result"
    }
   ],
   "source": [
    "# Importamos las bibliotecas necesarias\n",
    "\n",
    "import numpy as np\n",
    "import pandas as pd\n",
    "import matplotlib.pyplot as plt\n",
    "import seaborn as sb\n",
    "from scipy.stats import norm, skew\n",
    "\n",
    "import warnings\n",
    "warnings.filterwarnings(action=\"ignore\")\n",
    "\n",
    "\n",
    "target_name = 'SalePrice'\n",
    "# dataset_train_raw = pd.read_csv('../input/house-prices-advanced-regression-techniques/train.csv')\n",
    "# dataset_test = pd.read_csv('../input/house-prices-advanced-regression-techniques/test.csv')\n",
    "\n",
    "dataset_train_raw = pd.read_csv('./DataSets/train.csv')\n",
    "dataset_train_raw = pd.read_csv('./DataSets/test.csv')\n",
    "\n",
    "dataset_train_raw"
   ]
  },
  {
   "cell_type": "code",
   "execution_count": 4,
   "metadata": {
    "execution": {
     "iopub.execute_input": "2021-03-02T04:08:25.932494Z",
     "iopub.status.busy": "2021-03-02T04:08:25.931491Z",
     "iopub.status.idle": "2021-03-02T04:08:25.973547Z",
     "shell.execute_reply": "2021-03-02T04:08:25.972976Z"
    },
    "papermill": {
     "duration": 0.064881,
     "end_time": "2021-03-02T04:08:25.973688",
     "exception": false,
     "start_time": "2021-03-02T04:08:25.908807",
     "status": "completed"
    },
    "tags": []
   },
   "outputs": [
    {
     "ename": "NameError",
     "evalue": "name 'dataset_test' is not defined",
     "output_type": "error",
     "traceback": [
      "\u001b[1;31m---------------------------------------------------------------------------\u001b[0m",
      "\u001b[1;31mNameError\u001b[0m                                 Traceback (most recent call last)",
      "\u001b[1;32m<ipython-input-4-7db225a712b5>\u001b[0m in \u001b[0;36m<module>\u001b[1;34m\u001b[0m\n\u001b[1;32m----> 1\u001b[1;33m \u001b[0mdataset_test\u001b[0m\u001b[1;33m\u001b[0m\u001b[1;33m\u001b[0m\u001b[0m\n\u001b[0m",
      "\u001b[1;31mNameError\u001b[0m: name 'dataset_test' is not defined"
     ]
    }
   ],
   "source": [
    "dataset_test"
   ]
  },
  {
   "cell_type": "markdown",
   "metadata": {
    "papermill": {
     "duration": 0.019398,
     "end_time": "2021-03-02T04:08:26.014451",
     "exception": false,
     "start_time": "2021-03-02T04:08:25.995053",
     "status": "completed"
    },
    "tags": []
   },
   "source": [
    "Vamos a unir los datos de entrenamiento y de pruebas, para preprocesarlos y luego dividirlos nuevamente. También vamos a eliminar datos que afectan nuestro modelo como el 'id' "
   ]
  },
  {
   "cell_type": "code",
   "execution_count": 5,
   "metadata": {
    "execution": {
     "iopub.execute_input": "2021-03-02T04:08:26.062677Z",
     "iopub.status.busy": "2021-03-02T04:08:26.061520Z",
     "iopub.status.idle": "2021-03-02T04:08:26.124807Z",
     "shell.execute_reply": "2021-03-02T04:08:26.124170Z"
    },
    "papermill": {
     "duration": 0.091032,
     "end_time": "2021-03-02T04:08:26.124979",
     "exception": false,
     "start_time": "2021-03-02T04:08:26.033947",
     "status": "completed"
    },
    "tags": []
   },
   "outputs": [
    {
     "ename": "KeyError",
     "evalue": "'SalePrice'",
     "output_type": "error",
     "traceback": [
      "\u001b[1;31m---------------------------------------------------------------------------\u001b[0m",
      "\u001b[1;31mKeyError\u001b[0m                                  Traceback (most recent call last)",
      "\u001b[1;32m~\\.conda\\envs\\Data-Science\\lib\\site-packages\\pandas\\core\\indexes\\base.py\u001b[0m in \u001b[0;36mget_loc\u001b[1;34m(self, key, method, tolerance)\u001b[0m\n\u001b[0;32m   3079\u001b[0m             \u001b[1;32mtry\u001b[0m\u001b[1;33m:\u001b[0m\u001b[1;33m\u001b[0m\u001b[1;33m\u001b[0m\u001b[0m\n\u001b[1;32m-> 3080\u001b[1;33m                 \u001b[1;32mreturn\u001b[0m \u001b[0mself\u001b[0m\u001b[1;33m.\u001b[0m\u001b[0m_engine\u001b[0m\u001b[1;33m.\u001b[0m\u001b[0mget_loc\u001b[0m\u001b[1;33m(\u001b[0m\u001b[0mcasted_key\u001b[0m\u001b[1;33m)\u001b[0m\u001b[1;33m\u001b[0m\u001b[1;33m\u001b[0m\u001b[0m\n\u001b[0m\u001b[0;32m   3081\u001b[0m             \u001b[1;32mexcept\u001b[0m \u001b[0mKeyError\u001b[0m \u001b[1;32mas\u001b[0m \u001b[0merr\u001b[0m\u001b[1;33m:\u001b[0m\u001b[1;33m\u001b[0m\u001b[1;33m\u001b[0m\u001b[0m\n",
      "\u001b[1;32mpandas\\_libs\\index.pyx\u001b[0m in \u001b[0;36mpandas._libs.index.IndexEngine.get_loc\u001b[1;34m()\u001b[0m\n",
      "\u001b[1;32mpandas\\_libs\\index.pyx\u001b[0m in \u001b[0;36mpandas._libs.index.IndexEngine.get_loc\u001b[1;34m()\u001b[0m\n",
      "\u001b[1;32mpandas\\_libs\\hashtable_class_helper.pxi\u001b[0m in \u001b[0;36mpandas._libs.hashtable.PyObjectHashTable.get_item\u001b[1;34m()\u001b[0m\n",
      "\u001b[1;32mpandas\\_libs\\hashtable_class_helper.pxi\u001b[0m in \u001b[0;36mpandas._libs.hashtable.PyObjectHashTable.get_item\u001b[1;34m()\u001b[0m\n",
      "\u001b[1;31mKeyError\u001b[0m: 'SalePrice'",
      "\nThe above exception was the direct cause of the following exception:\n",
      "\u001b[1;31mKeyError\u001b[0m                                  Traceback (most recent call last)",
      "\u001b[1;32m<ipython-input-5-33f1001998fc>\u001b[0m in \u001b[0;36m<module>\u001b[1;34m\u001b[0m\n\u001b[0;32m      1\u001b[0m \u001b[0mignore_feature\u001b[0m \u001b[1;33m=\u001b[0m \u001b[1;33m[\u001b[0m\u001b[1;34m'Id'\u001b[0m\u001b[1;33m]\u001b[0m\u001b[1;33m\u001b[0m\u001b[1;33m\u001b[0m\u001b[0m\n\u001b[1;32m----> 2\u001b[1;33m \u001b[0my_train\u001b[0m \u001b[1;33m=\u001b[0m \u001b[0mdataset_train_raw\u001b[0m\u001b[1;33m[\u001b[0m\u001b[0mtarget_name\u001b[0m\u001b[1;33m]\u001b[0m\u001b[1;33m\u001b[0m\u001b[1;33m\u001b[0m\u001b[0m\n\u001b[0m\u001b[0;32m      3\u001b[0m \u001b[0mdataset_train\u001b[0m \u001b[1;33m=\u001b[0m \u001b[0mdataset_train_raw\u001b[0m\u001b[1;33m.\u001b[0m\u001b[0mdrop\u001b[0m\u001b[1;33m(\u001b[0m\u001b[1;33m[\u001b[0m\u001b[0mtarget_name\u001b[0m\u001b[1;33m]\u001b[0m \u001b[1;33m+\u001b[0m \u001b[0mignore_feature\u001b[0m\u001b[1;33m,\u001b[0m \u001b[0maxis\u001b[0m\u001b[1;33m=\u001b[0m\u001b[1;36m1\u001b[0m\u001b[1;33m,\u001b[0m \u001b[0minplace\u001b[0m\u001b[1;33m=\u001b[0m\u001b[1;32mFalse\u001b[0m\u001b[1;33m)\u001b[0m\u001b[1;33m\u001b[0m\u001b[1;33m\u001b[0m\u001b[0m\n\u001b[0;32m      4\u001b[0m \u001b[0mdataset_test\u001b[0m\u001b[1;33m.\u001b[0m\u001b[0mdrop\u001b[0m\u001b[1;33m(\u001b[0m\u001b[0mignore_feature\u001b[0m\u001b[1;33m,\u001b[0m \u001b[0maxis\u001b[0m\u001b[1;33m=\u001b[0m\u001b[1;36m1\u001b[0m\u001b[1;33m,\u001b[0m \u001b[0minplace\u001b[0m\u001b[1;33m=\u001b[0m\u001b[1;32mTrue\u001b[0m\u001b[1;33m)\u001b[0m\u001b[1;33m\u001b[0m\u001b[1;33m\u001b[0m\u001b[0m\n\u001b[0;32m      5\u001b[0m \u001b[1;33m\u001b[0m\u001b[0m\n",
      "\u001b[1;32m~\\.conda\\envs\\Data-Science\\lib\\site-packages\\pandas\\core\\frame.py\u001b[0m in \u001b[0;36m__getitem__\u001b[1;34m(self, key)\u001b[0m\n\u001b[0;32m   3022\u001b[0m             \u001b[1;32mif\u001b[0m \u001b[0mself\u001b[0m\u001b[1;33m.\u001b[0m\u001b[0mcolumns\u001b[0m\u001b[1;33m.\u001b[0m\u001b[0mnlevels\u001b[0m \u001b[1;33m>\u001b[0m \u001b[1;36m1\u001b[0m\u001b[1;33m:\u001b[0m\u001b[1;33m\u001b[0m\u001b[1;33m\u001b[0m\u001b[0m\n\u001b[0;32m   3023\u001b[0m                 \u001b[1;32mreturn\u001b[0m \u001b[0mself\u001b[0m\u001b[1;33m.\u001b[0m\u001b[0m_getitem_multilevel\u001b[0m\u001b[1;33m(\u001b[0m\u001b[0mkey\u001b[0m\u001b[1;33m)\u001b[0m\u001b[1;33m\u001b[0m\u001b[1;33m\u001b[0m\u001b[0m\n\u001b[1;32m-> 3024\u001b[1;33m             \u001b[0mindexer\u001b[0m \u001b[1;33m=\u001b[0m \u001b[0mself\u001b[0m\u001b[1;33m.\u001b[0m\u001b[0mcolumns\u001b[0m\u001b[1;33m.\u001b[0m\u001b[0mget_loc\u001b[0m\u001b[1;33m(\u001b[0m\u001b[0mkey\u001b[0m\u001b[1;33m)\u001b[0m\u001b[1;33m\u001b[0m\u001b[1;33m\u001b[0m\u001b[0m\n\u001b[0m\u001b[0;32m   3025\u001b[0m             \u001b[1;32mif\u001b[0m \u001b[0mis_integer\u001b[0m\u001b[1;33m(\u001b[0m\u001b[0mindexer\u001b[0m\u001b[1;33m)\u001b[0m\u001b[1;33m:\u001b[0m\u001b[1;33m\u001b[0m\u001b[1;33m\u001b[0m\u001b[0m\n\u001b[0;32m   3026\u001b[0m                 \u001b[0mindexer\u001b[0m \u001b[1;33m=\u001b[0m \u001b[1;33m[\u001b[0m\u001b[0mindexer\u001b[0m\u001b[1;33m]\u001b[0m\u001b[1;33m\u001b[0m\u001b[1;33m\u001b[0m\u001b[0m\n",
      "\u001b[1;32m~\\.conda\\envs\\Data-Science\\lib\\site-packages\\pandas\\core\\indexes\\base.py\u001b[0m in \u001b[0;36mget_loc\u001b[1;34m(self, key, method, tolerance)\u001b[0m\n\u001b[0;32m   3080\u001b[0m                 \u001b[1;32mreturn\u001b[0m \u001b[0mself\u001b[0m\u001b[1;33m.\u001b[0m\u001b[0m_engine\u001b[0m\u001b[1;33m.\u001b[0m\u001b[0mget_loc\u001b[0m\u001b[1;33m(\u001b[0m\u001b[0mcasted_key\u001b[0m\u001b[1;33m)\u001b[0m\u001b[1;33m\u001b[0m\u001b[1;33m\u001b[0m\u001b[0m\n\u001b[0;32m   3081\u001b[0m             \u001b[1;32mexcept\u001b[0m \u001b[0mKeyError\u001b[0m \u001b[1;32mas\u001b[0m \u001b[0merr\u001b[0m\u001b[1;33m:\u001b[0m\u001b[1;33m\u001b[0m\u001b[1;33m\u001b[0m\u001b[0m\n\u001b[1;32m-> 3082\u001b[1;33m                 \u001b[1;32mraise\u001b[0m \u001b[0mKeyError\u001b[0m\u001b[1;33m(\u001b[0m\u001b[0mkey\u001b[0m\u001b[1;33m)\u001b[0m \u001b[1;32mfrom\u001b[0m \u001b[0merr\u001b[0m\u001b[1;33m\u001b[0m\u001b[1;33m\u001b[0m\u001b[0m\n\u001b[0m\u001b[0;32m   3083\u001b[0m \u001b[1;33m\u001b[0m\u001b[0m\n\u001b[0;32m   3084\u001b[0m         \u001b[1;32mif\u001b[0m \u001b[0mtolerance\u001b[0m \u001b[1;32mis\u001b[0m \u001b[1;32mnot\u001b[0m \u001b[1;32mNone\u001b[0m\u001b[1;33m:\u001b[0m\u001b[1;33m\u001b[0m\u001b[1;33m\u001b[0m\u001b[0m\n",
      "\u001b[1;31mKeyError\u001b[0m: 'SalePrice'"
     ]
    }
   ],
   "source": [
    "ignore_feature = ['Id']\n",
    "y_train = dataset_train_raw[target_name]\n",
    "dataset_train = dataset_train_raw.drop([target_name] + ignore_feature, axis=1, inplace=False)\n",
    "dataset_test.drop(ignore_feature, axis=1, inplace=True)\n",
    "\n",
    "all_data = pd.concat([dataset_train, dataset_test], axis=0, sort=False)\n",
    "all_data"
   ]
  },
  {
   "cell_type": "markdown",
   "metadata": {
    "papermill": {
     "duration": 0.020154,
     "end_time": "2021-03-02T04:08:26.165979",
     "exception": false,
     "start_time": "2021-03-02T04:08:26.145825",
     "status": "completed"
    },
    "tags": []
   },
   "source": [
    "# Mapa decorrelaciones\n",
    "\n",
    "Vemos que hay algo de milticolaneidad, pero esto lo vamos a solucionar mediante los modelos de penalización."
   ]
  },
  {
   "cell_type": "code",
   "execution_count": null,
   "metadata": {
    "execution": {
     "iopub.execute_input": "2021-03-02T04:08:26.213622Z",
     "iopub.status.busy": "2021-03-02T04:08:26.212981Z",
     "iopub.status.idle": "2021-03-02T04:08:34.857206Z",
     "shell.execute_reply": "2021-03-02T04:08:34.857748Z"
    },
    "papermill": {
     "duration": 8.671255,
     "end_time": "2021-03-02T04:08:34.857939",
     "exception": false,
     "start_time": "2021-03-02T04:08:26.186684",
     "status": "completed"
    },
    "tags": []
   },
   "outputs": [],
   "source": [
    "correlation_train = dataset_train_raw.corr()\n",
    "sb.set(font_scale=0.5)\n",
    "plt.figure(figsize=(15, 10))\n",
    "ax = sb.heatmap(correlation_train, annot=True, annot_kws={'size': 10}, fmt='.1f', cmap='PiYG', linewidths=.2)\n",
    "plt.show()"
   ]
  },
  {
   "cell_type": "markdown",
   "metadata": {
    "papermill": {
     "duration": 0.032214,
     "end_time": "2021-03-02T04:08:34.921265",
     "exception": false,
     "start_time": "2021-03-02T04:08:34.889051",
     "status": "completed"
    },
    "tags": []
   },
   "source": [
    "# Vamos a tratar con los valores perdidos\n",
    "\n",
    "Veremos que hay valores perdidos y para tratarlos vamos a hacer una categoria por separado"
   ]
  },
  {
   "cell_type": "code",
   "execution_count": 6,
   "metadata": {
    "execution": {
     "iopub.execute_input": "2021-03-02T04:08:34.986911Z",
     "iopub.status.busy": "2021-03-02T04:08:34.986233Z",
     "iopub.status.idle": "2021-03-02T04:08:39.571713Z",
     "shell.execute_reply": "2021-03-02T04:08:39.570987Z"
    },
    "papermill": {
     "duration": 4.619432,
     "end_time": "2021-03-02T04:08:39.571880",
     "exception": false,
     "start_time": "2021-03-02T04:08:34.952448",
     "status": "completed"
    },
    "tags": []
   },
   "outputs": [
    {
     "ename": "NameError",
     "evalue": "name 'all_data' is not defined",
     "output_type": "error",
     "traceback": [
      "\u001b[1;31m---------------------------------------------------------------------------\u001b[0m",
      "\u001b[1;31mNameError\u001b[0m                                 Traceback (most recent call last)",
      "\u001b[1;32m<ipython-input-6-87b5c4e56b98>\u001b[0m in \u001b[0;36m<module>\u001b[1;34m\u001b[0m\n\u001b[0;32m      1\u001b[0m \u001b[0mfig\u001b[0m\u001b[1;33m,\u001b[0m \u001b[0max\u001b[0m \u001b[1;33m=\u001b[0m \u001b[0mplt\u001b[0m\u001b[1;33m.\u001b[0m\u001b[0msubplots\u001b[0m\u001b[1;33m(\u001b[0m\u001b[0mfigsize\u001b[0m\u001b[1;33m=\u001b[0m\u001b[1;33m(\u001b[0m\u001b[1;36m20\u001b[0m\u001b[1;33m,\u001b[0m \u001b[1;36m10\u001b[0m\u001b[1;33m)\u001b[0m\u001b[1;33m)\u001b[0m\u001b[1;33m\u001b[0m\u001b[1;33m\u001b[0m\u001b[0m\n\u001b[1;32m----> 2\u001b[1;33m \u001b[0msb\u001b[0m\u001b[1;33m.\u001b[0m\u001b[0mheatmap\u001b[0m\u001b[1;33m(\u001b[0m\u001b[0mall_data\u001b[0m\u001b[1;33m.\u001b[0m\u001b[0misnull\u001b[0m\u001b[1;33m(\u001b[0m\u001b[1;33m)\u001b[0m\u001b[1;33m,\u001b[0m \u001b[0myticklabels\u001b[0m\u001b[1;33m=\u001b[0m\u001b[1;32mFalse\u001b[0m\u001b[1;33m,\u001b[0m \u001b[0mcbar\u001b[0m\u001b[1;33m=\u001b[0m\u001b[1;32mTrue\u001b[0m\u001b[1;33m)\u001b[0m\u001b[1;33m\u001b[0m\u001b[1;33m\u001b[0m\u001b[0m\n\u001b[0m\u001b[0;32m      3\u001b[0m \u001b[0mplt\u001b[0m\u001b[1;33m.\u001b[0m\u001b[0mshow\u001b[0m\u001b[1;33m(\u001b[0m\u001b[1;33m)\u001b[0m\u001b[1;33m\u001b[0m\u001b[1;33m\u001b[0m\u001b[0m\n",
      "\u001b[1;31mNameError\u001b[0m: name 'all_data' is not defined"
     ]
    },
    {
     "data": {
      "image/png": "[encoded data removed]",
      "text/plain": [
       "<Figure size 1440x720 with 1 Axes>"
      ]
     },
     "metadata": {
      "needs_background": "light"
     },
     "output_type": "display_data"
    }
   ],
   "source": [
    "fig, ax = plt.subplots(figsize=(20, 10))\n",
    "sb.heatmap(all_data.isnull(), yticklabels=False, cbar=True)\n",
    "plt.show()"
   ]
  },
  {
   "cell_type": "code",
   "execution_count": null,
   "metadata": {
    "execution": {
     "iopub.execute_input": "2021-03-02T04:08:39.640592Z",
     "iopub.status.busy": "2021-03-02T04:08:39.639868Z",
     "iopub.status.idle": "2021-03-02T04:08:39.657402Z",
     "shell.execute_reply": "2021-03-02T04:08:39.656743Z"
    },
    "papermill": {
     "duration": 0.053096,
     "end_time": "2021-03-02T04:08:39.657553",
     "exception": false,
     "start_time": "2021-03-02T04:08:39.604457",
     "status": "completed"
    },
    "tags": []
   },
   "outputs": [],
   "source": [
    "# Aquí si la caracteristica que falta es númerica, rellenela con un cero\n",
    "\n",
    "specially_missed = ['Alley',\n",
    "                    'PoolQC',\n",
    "                    'MiscFeature',\n",
    "                    'Fence',\n",
    "                    'FireplaceQu',\n",
    "                    'GarageType',\n",
    "                    'GarageFinish',\n",
    "                    'GarageQual',\n",
    "                    'GarageCond',\n",
    "                    'BsmtQual',\n",
    "                    'BsmtCond',\n",
    "                    'BsmtExposure',\n",
    "                    'BsmtFinType1',\n",
    "                    'BsmtFinType2',\n",
    "                    'MasVnrType']\n",
    "\n",
    "for feature in specially_missed:\n",
    "    all_data[feature] = all_data[feature].fillna('None')"
   ]
  },
  {
   "cell_type": "code",
   "execution_count": null,
   "metadata": {
    "execution": {
     "iopub.execute_input": "2021-03-02T04:08:39.726357Z",
     "iopub.status.busy": "2021-03-02T04:08:39.725579Z",
     "iopub.status.idle": "2021-03-02T04:08:39.732884Z",
     "shell.execute_reply": "2021-03-02T04:08:39.733431Z"
    },
    "papermill": {
     "duration": 0.043511,
     "end_time": "2021-03-02T04:08:39.733628",
     "exception": false,
     "start_time": "2021-03-02T04:08:39.690117",
     "status": "completed"
    },
    "tags": []
   },
   "outputs": [],
   "source": [
    "# Características numéricas importantes que toman una pequeña cantidad de variantes de valores (por ejemplo, año) \n",
    "# en categóricas al convertirlas en cadenas.\n",
    "\n",
    "numeric_missed = ['BsmtFinSF1',\n",
    "                  'BsmtFinSF2',\n",
    "                  'BsmtUnfSF',\n",
    "                  'TotalBsmtSF',\n",
    "                  'BsmtFullBath',\n",
    "                  'BsmtHalfBath',\n",
    "                  'GarageYrBlt',\n",
    "                  'GarageArea',\n",
    "                  'GarageCars',\n",
    "                  'MasVnrArea']\n",
    "\n",
    "for feature in numeric_missed:\n",
    "    all_data[feature] = all_data[feature].fillna(0)"
   ]
  },
  {
   "cell_type": "code",
   "execution_count": null,
   "metadata": {
    "execution": {
     "iopub.execute_input": "2021-03-02T04:08:39.803478Z",
     "iopub.status.busy": "2021-03-02T04:08:39.802737Z",
     "iopub.status.idle": "2021-03-02T04:08:39.820938Z",
     "shell.execute_reply": "2021-03-02T04:08:39.821424Z"
    },
    "papermill": {
     "duration": 0.055326,
     "end_time": "2021-03-02T04:08:39.821609",
     "exception": false,
     "start_time": "2021-03-02T04:08:39.766283",
     "status": "completed"
    },
    "tags": []
   },
   "outputs": [],
   "source": [
    "# Complete los valores restantes que faltan con los valores más comunes para esta función.\n",
    "\n",
    "all_data['MSSubClass'] = all_data['MSSubClass'].astype(str)\n",
    "all_data['YrSold'] = all_data['YrSold'].astype(str)\n",
    "all_data['MoSold'] = all_data['MoSold'].astype(str)"
   ]
  },
  {
   "cell_type": "code",
   "execution_count": null,
   "metadata": {
    "execution": {
     "iopub.execute_input": "2021-03-02T04:08:39.891062Z",
     "iopub.status.busy": "2021-03-02T04:08:39.890377Z",
     "iopub.status.idle": "2021-03-02T04:08:39.934897Z",
     "shell.execute_reply": "2021-03-02T04:08:39.934326Z"
    },
    "papermill": {
     "duration": 0.08047,
     "end_time": "2021-03-02T04:08:39.935058",
     "exception": false,
     "start_time": "2021-03-02T04:08:39.854588",
     "status": "completed"
    },
    "tags": []
   },
   "outputs": [],
   "source": [
    "all_data['Functional'] = all_data['Functional'].fillna('Typ')\n",
    "all_data['Utilities'] = all_data['Utilities'].fillna('AllPub')\n",
    "all_data['KitchenQual'] = all_data['KitchenQual'].fillna('TA')\n",
    "all_data['Electrical'] = all_data['Electrical'].fillna('SBrkr')\n",
    "\n",
    "all_data['Exterior1st'] = all_data['Exterior1st'].fillna(all_data['Exterior1st'].mode()[0])\n",
    "all_data['Exterior2nd'] = all_data['Exterior2nd'].fillna(all_data['Exterior2nd'].mode()[0])\n",
    "all_data['SaleType'] = all_data['SaleType'].fillna(all_data['SaleType'].mode()[0])\n",
    "\n",
    "all_data['LotFrontage'] = all_data.groupby('Neighborhood')['LotFrontage'].transform(lambda x: x.fillna(x.mean()))\n",
    "all_data['MSZoning'] = all_data.groupby('MSSubClass')['MSZoning'].transform(lambda x: x.fillna(x.mode()[0]))"
   ]
  },
  {
   "cell_type": "code",
   "execution_count": null,
   "metadata": {
    "execution": {
     "iopub.execute_input": "2021-03-02T04:08:40.023651Z",
     "iopub.status.busy": "2021-03-02T04:08:40.022979Z",
     "iopub.status.idle": "2021-03-02T04:08:44.531235Z",
     "shell.execute_reply": "2021-03-02T04:08:44.530449Z"
    },
    "papermill": {
     "duration": 4.562876,
     "end_time": "2021-03-02T04:08:44.531390",
     "exception": false,
     "start_time": "2021-03-02T04:08:39.968514",
     "status": "completed"
    },
    "tags": []
   },
   "outputs": [],
   "source": [
    "# Ahora podemos ver que ya no hay valores perdidos\n",
    "\n",
    "fig, ax = plt.subplots(figsize=(20, 10))\n",
    "sb.heatmap(all_data.isnull(), yticklabels=False, cbar=True)\n",
    "plt.show()"
   ]
  },
  {
   "cell_type": "markdown",
   "metadata": {
    "papermill": {
     "duration": 0.034308,
     "end_time": "2021-03-02T04:08:44.600769",
     "exception": false,
     "start_time": "2021-03-02T04:08:44.566461",
     "status": "completed"
    },
    "tags": []
   },
   "source": [
    "# Arreglar la asimetría\n",
    "\n",
    "Creemos un histograma para ver si la variable objetivo (precio de venta) se distribuye normalmente.\n",
    "\n",
    "Y no, no es así, ahora usaremos log. "
   ]
  },
  {
   "cell_type": "code",
   "execution_count": 7,
   "metadata": {
    "execution": {
     "iopub.execute_input": "2021-03-02T04:08:44.690117Z",
     "iopub.status.busy": "2021-03-02T04:08:44.689427Z",
     "iopub.status.idle": "2021-03-02T04:08:45.040122Z",
     "shell.execute_reply": "2021-03-02T04:08:45.039477Z"
    },
    "papermill": {
     "duration": 0.405057,
     "end_time": "2021-03-02T04:08:45.040271",
     "exception": false,
     "start_time": "2021-03-02T04:08:44.635214",
     "status": "completed"
    },
    "tags": []
   },
   "outputs": [
    {
     "ename": "NameError",
     "evalue": "name 'y_train' is not defined",
     "output_type": "error",
     "traceback": [
      "\u001b[1;31m---------------------------------------------------------------------------\u001b[0m",
      "\u001b[1;31mNameError\u001b[0m                                 Traceback (most recent call last)",
      "\u001b[1;32m<ipython-input-7-c66c94eb4bc9>\u001b[0m in \u001b[0;36m<module>\u001b[1;34m\u001b[0m\n\u001b[0;32m      1\u001b[0m \u001b[0mplt\u001b[0m\u001b[1;33m.\u001b[0m\u001b[0msubplots\u001b[0m\u001b[1;33m(\u001b[0m\u001b[0mfigsize\u001b[0m\u001b[1;33m=\u001b[0m\u001b[1;33m(\u001b[0m\u001b[1;36m14\u001b[0m\u001b[1;33m,\u001b[0m \u001b[1;36m9\u001b[0m\u001b[1;33m)\u001b[0m\u001b[1;33m)\u001b[0m\u001b[1;33m\u001b[0m\u001b[1;33m\u001b[0m\u001b[0m\n\u001b[1;32m----> 2\u001b[1;33m \u001b[0msb\u001b[0m\u001b[1;33m.\u001b[0m\u001b[0mdistplot\u001b[0m\u001b[1;33m(\u001b[0m\u001b[0my_train\u001b[0m\u001b[1;33m,\u001b[0m \u001b[0mkde\u001b[0m\u001b[1;33m=\u001b[0m\u001b[1;32mTrue\u001b[0m\u001b[1;33m,\u001b[0m \u001b[0mhist\u001b[0m\u001b[1;33m=\u001b[0m\u001b[1;32mTrue\u001b[0m\u001b[1;33m,\u001b[0m \u001b[0mfit\u001b[0m\u001b[1;33m=\u001b[0m\u001b[0mnorm\u001b[0m\u001b[1;33m)\u001b[0m\u001b[1;33m\u001b[0m\u001b[1;33m\u001b[0m\u001b[0m\n\u001b[0m\u001b[0;32m      3\u001b[0m \u001b[0mplt\u001b[0m\u001b[1;33m.\u001b[0m\u001b[0mshow\u001b[0m\u001b[1;33m(\u001b[0m\u001b[1;33m)\u001b[0m\u001b[1;33m\u001b[0m\u001b[1;33m\u001b[0m\u001b[0m\n",
      "\u001b[1;31mNameError\u001b[0m: name 'y_train' is not defined"
     ]
    },
    {
     "data": {
      "image/png": "[encoded data removed]",
      "text/plain": [
       "<Figure size 1008x648 with 1 Axes>"
      ]
     },
     "metadata": {
      "needs_background": "light"
     },
     "output_type": "display_data"
    }
   ],
   "source": [
    "plt.subplots(figsize=(14, 9))\n",
    "sb.distplot(y_train, kde=True, hist=True, fit=norm)\n",
    "plt.show()"
   ]
  },
  {
   "cell_type": "code",
   "execution_count": null,
   "metadata": {
    "execution": {
     "iopub.execute_input": "2021-03-02T04:08:45.122274Z",
     "iopub.status.busy": "2021-03-02T04:08:45.121470Z",
     "iopub.status.idle": "2021-03-02T04:08:45.150864Z",
     "shell.execute_reply": "2021-03-02T04:08:45.150153Z"
    },
    "papermill": {
     "duration": 0.07336,
     "end_time": "2021-03-02T04:08:45.151110",
     "exception": false,
     "start_time": "2021-03-02T04:08:45.077750",
     "status": "completed"
    },
    "tags": []
   },
   "outputs": [],
   "source": [
    "# Ahora vamos a reparar la simetría del resto de los valores\n",
    "\n",
    "numeric_feats = all_data.dtypes[all_data.dtypes != 'object'].index\n",
    "skewed_feats = all_data[numeric_feats].apply(lambda x: skew(x)).sort_values(ascending=False)\n",
    "high_skew = skewed_feats[abs(skewed_feats) > 0.5]\n",
    "high_skew"
   ]
  },
  {
   "cell_type": "code",
   "execution_count": null,
   "metadata": {
    "execution": {
     "iopub.execute_input": "2021-03-02T04:08:45.230276Z",
     "iopub.status.busy": "2021-03-02T04:08:45.229181Z",
     "iopub.status.idle": "2021-03-02T04:08:45.246088Z",
     "shell.execute_reply": "2021-03-02T04:08:45.245317Z"
    },
    "papermill": {
     "duration": 0.058689,
     "end_time": "2021-03-02T04:08:45.246237",
     "exception": false,
     "start_time": "2021-03-02T04:08:45.187548",
     "status": "completed"
    },
    "tags": []
   },
   "outputs": [],
   "source": [
    "for feature in high_skew.index:\n",
    "    all_data[feature] = np.log1p(all_data[feature])"
   ]
  },
  {
   "cell_type": "markdown",
   "metadata": {
    "papermill": {
     "duration": 0.036287,
     "end_time": "2021-03-02T04:08:45.318986",
     "exception": false,
     "start_time": "2021-03-02T04:08:45.282699",
     "status": "completed"
    },
    "tags": []
   },
   "source": [
    "# Añadiendo nuevas funciones\n",
    "\n",
    "Agregando nuevas características más significativas basadas en características menores antiguas"
   ]
  },
  {
   "cell_type": "code",
   "execution_count": null,
   "metadata": {
    "execution": {
     "iopub.execute_input": "2021-03-02T04:08:45.407195Z",
     "iopub.status.busy": "2021-03-02T04:08:45.406449Z",
     "iopub.status.idle": "2021-03-02T04:08:45.409936Z",
     "shell.execute_reply": "2021-03-02T04:08:45.409363Z"
    },
    "papermill": {
     "duration": 0.054511,
     "end_time": "2021-03-02T04:08:45.410083",
     "exception": false,
     "start_time": "2021-03-02T04:08:45.355572",
     "status": "completed"
    },
    "tags": []
   },
   "outputs": [],
   "source": [
    "all_data['TotalSF'] = all_data['TotalBsmtSF'] + all_data['1stFlrSF'] + all_data['2ndFlrSF']\n",
    "\n",
    "all_data['SqFtPerRoom'] = all_data['GrLivArea'] / (all_data['TotRmsAbvGrd'] + all_data['FullBath'] +\n",
    "                                                       all_data['HalfBath'] + all_data['KitchenAbvGr'])\n",
    "\n",
    "all_data['TotalHomeQuality'] = all_data['OverallQual'] + all_data['OverallCond']\n",
    "\n",
    "all_data['TotalBathrooms'] = (all_data['FullBath'] + (0.5 * all_data['HalfBath']) +\n",
    "                                  all_data['BsmtFullBath'] + (0.5 * all_data['BsmtHalfBath']))"
   ]
  },
  {
   "cell_type": "markdown",
   "metadata": {
    "papermill": {
     "duration": 0.036967,
     "end_time": "2021-03-02T04:08:45.484214",
     "exception": false,
     "start_time": "2021-03-02T04:08:45.447247",
     "status": "completed"
    },
    "tags": []
   },
   "source": [
    "# Conjunto de datos procesados "
   ]
  },
  {
   "cell_type": "code",
   "execution_count": null,
   "metadata": {
    "execution": {
     "iopub.execute_input": "2021-03-02T04:08:45.566318Z",
     "iopub.status.busy": "2021-03-02T04:08:45.565566Z",
     "iopub.status.idle": "2021-03-02T04:08:45.660187Z",
     "shell.execute_reply": "2021-03-02T04:08:45.659636Z"
    },
    "papermill": {
     "duration": 0.139065,
     "end_time": "2021-03-02T04:08:45.660338",
     "exception": false,
     "start_time": "2021-03-02T04:08:45.521273",
     "status": "completed"
    },
    "tags": []
   },
   "outputs": [],
   "source": [
    "X_all = pd.get_dummies(all_data)\n",
    "X_train = X_all[:len(y_train)]\n",
    "X_test = X_all[len(y_train):]\n",
    "\n",
    "X_train"
   ]
  },
  {
   "cell_type": "code",
   "execution_count": 8,
   "metadata": {
    "execution": {
     "iopub.execute_input": "2021-03-02T04:08:45.742313Z",
     "iopub.status.busy": "2021-03-02T04:08:45.741594Z",
     "iopub.status.idle": "2021-03-02T04:08:45.773128Z",
     "shell.execute_reply": "2021-03-02T04:08:45.773730Z"
    },
    "papermill": {
     "duration": 0.075447,
     "end_time": "2021-03-02T04:08:45.773929",
     "exception": false,
     "start_time": "2021-03-02T04:08:45.698482",
     "status": "completed"
    },
    "tags": []
   },
   "outputs": [
    {
     "ename": "NameError",
     "evalue": "name 'X_test' is not defined",
     "output_type": "error",
     "traceback": [
      "\u001b[1;31m---------------------------------------------------------------------------\u001b[0m",
      "\u001b[1;31mNameError\u001b[0m                                 Traceback (most recent call last)",
      "\u001b[1;32m<ipython-input-8-0c1cdefd54ea>\u001b[0m in \u001b[0;36m<module>\u001b[1;34m\u001b[0m\n\u001b[1;32m----> 1\u001b[1;33m \u001b[0mX_test\u001b[0m\u001b[1;33m\u001b[0m\u001b[1;33m\u001b[0m\u001b[0m\n\u001b[0m",
      "\u001b[1;31mNameError\u001b[0m: name 'X_test' is not defined"
     ]
    }
   ],
   "source": [
    "X_test"
   ]
  },
  {
   "cell_type": "code",
   "execution_count": null,
   "metadata": {
    "execution": {
     "iopub.execute_input": "2021-03-02T04:08:45.855761Z",
     "iopub.status.busy": "2021-03-02T04:08:45.854791Z",
     "iopub.status.idle": "2021-03-02T04:08:45.890635Z",
     "shell.execute_reply": "2021-03-02T04:08:45.891129Z"
    },
    "papermill": {
     "duration": 0.07803,
     "end_time": "2021-03-02T04:08:45.891318",
     "exception": false,
     "start_time": "2021-03-02T04:08:45.813288",
     "status": "completed"
    },
    "tags": []
   },
   "outputs": [],
   "source": [
    "X_all"
   ]
  },
  {
   "cell_type": "markdown",
   "metadata": {
    "papermill": {
     "duration": 0.040189,
     "end_time": "2021-03-02T04:08:45.972272",
     "exception": false,
     "start_time": "2021-03-02T04:08:45.932083",
     "status": "completed"
    },
    "tags": []
   },
   "source": [
    "# Modelado "
   ]
  },
  {
   "cell_type": "code",
   "execution_count": null,
   "metadata": {
    "execution": {
     "iopub.execute_input": "2021-03-02T04:08:46.057125Z",
     "iopub.status.busy": "2021-03-02T04:08:46.056134Z",
     "iopub.status.idle": "2021-03-02T04:12:51.072970Z",
     "shell.execute_reply": "2021-03-02T04:12:51.073490Z"
    },
    "papermill": {
     "duration": 245.06056,
     "end_time": "2021-03-02T04:12:51.073678",
     "exception": false,
     "start_time": "2021-03-02T04:08:46.013118",
     "status": "completed"
    },
    "tags": []
   },
   "outputs": [],
   "source": [
    "import xgboost as xg\n",
    "from sklearn.metrics import mean_squared_error\n",
    "from sklearn.model_selection import GridSearchCV, RandomizedSearchCV, KFold, cross_val_score\n",
    "from sklearn.linear_model import LinearRegression, ElasticNet, Lasso\n",
    "from sklearn.svm import SVR\n",
    "from sklearn.linear_model import Ridge\n",
    "from sklearn.ensemble import RandomForestRegressor\n",
    "from catboost import CatBoostRegressor\n",
    "from mlxtend.regressor import StackingRegressor\n",
    "\n",
    "\n",
    "kf = KFold(n_splits=8, random_state=42, shuffle=True)\n",
    "\n",
    "def cv_rmse(model):\n",
    "    return -cross_val_score(model, X_train, y_train, scoring='neg_root_mean_squared_error', cv=kf)\n",
    "\n",
    "models = ['Linear', 'SVR', 'Random_Forest', 'XGBR', 'Cat_Boost', 'Ridge', 'Elastic_Net', 'Lasso', 'Stack']\n",
    "scores = []\n",
    "\n",
    "lin = LinearRegression()\n",
    "score_lin = cv_rmse(lin)\n",
    "scores.append(score_lin.mean())\n",
    "\n",
    "svr = SVR()\n",
    "score_svr = cv_rmse(svr)\n",
    "scores.append(score_svr.mean())\n",
    "\n",
    "rfr = RandomForestRegressor()\n",
    "score_rfr = cv_rmse(rfr)\n",
    "scores.append(score_rfr.mean())\n",
    "\n",
    "xgb = xg.XGBRegressor()\n",
    "score_xgb = cv_rmse(xgb)\n",
    "scores.append(score_xgb.mean())\n",
    "\n",
    "catb = CatBoostRegressor(verbose=0, allow_writing_files=False)\n",
    "score_catb = cv_rmse(catb)\n",
    "scores.append(score_catb.mean())\n",
    "\n",
    "rid = Ridge()\n",
    "score_rid = cv_rmse(rid)\n",
    "scores.append(score_rid.mean())\n",
    "\n",
    "el = ElasticNet()\n",
    "score_el = cv_rmse(el)\n",
    "scores.append(score_el.mean())\n",
    "\n",
    "las = Lasso()\n",
    "score_las = cv_rmse(las)\n",
    "scores.append(score_las.mean())\n",
    "\n",
    "stack_gen = StackingRegressor(regressors=(CatBoostRegressor(verbose=0, allow_writing_files=False),\n",
    "                                          Ridge(),\n",
    "                                          xg.XGBRegressor(),\n",
    "                                          RandomForestRegressor()),\n",
    "                              meta_regressor=CatBoostRegressor(verbose=0, allow_writing_files=False),\n",
    "                              use_features_in_secondary=True)\n",
    "score_stack_gen = cv_rmse(stack_gen)\n",
    "scores.append(score_stack_gen.mean())\n",
    "\n",
    "cv_score = pd.DataFrame(models, columns=['Regressors'])\n",
    "cv_score['RMSE_mean'] = scores\n",
    "cv_score"
   ]
  },
  {
   "cell_type": "code",
   "execution_count": 9,
   "metadata": {
    "execution": {
     "iopub.execute_input": "2021-03-02T04:12:51.186735Z",
     "iopub.status.busy": "2021-03-02T04:12:51.185681Z",
     "iopub.status.idle": "2021-03-02T04:12:51.439140Z",
     "shell.execute_reply": "2021-03-02T04:12:51.439648Z"
    },
    "papermill": {
     "duration": 0.325706,
     "end_time": "2021-03-02T04:12:51.439817",
     "exception": false,
     "start_time": "2021-03-02T04:12:51.114111",
     "status": "completed"
    },
    "tags": []
   },
   "outputs": [
    {
     "ename": "NameError",
     "evalue": "name 'cv_score' is not defined",
     "output_type": "error",
     "traceback": [
      "\u001b[1;31m---------------------------------------------------------------------------\u001b[0m",
      "\u001b[1;31mNameError\u001b[0m                                 Traceback (most recent call last)",
      "\u001b[1;32m<ipython-input-9-f9355e924bbe>\u001b[0m in \u001b[0;36m<module>\u001b[1;34m\u001b[0m\n\u001b[0;32m      1\u001b[0m \u001b[0mplt\u001b[0m\u001b[1;33m.\u001b[0m\u001b[0mfigure\u001b[0m\u001b[1;33m(\u001b[0m\u001b[0mfigsize\u001b[0m\u001b[1;33m=\u001b[0m\u001b[1;33m(\u001b[0m\u001b[1;36m15\u001b[0m\u001b[1;33m,\u001b[0m \u001b[1;36m11\u001b[0m\u001b[1;33m)\u001b[0m\u001b[1;33m)\u001b[0m\u001b[1;33m\u001b[0m\u001b[1;33m\u001b[0m\u001b[0m\n\u001b[1;32m----> 2\u001b[1;33m \u001b[0msb\u001b[0m\u001b[1;33m.\u001b[0m\u001b[0mbarplot\u001b[0m\u001b[1;33m(\u001b[0m\u001b[0mcv_score\u001b[0m\u001b[1;33m[\u001b[0m\u001b[1;34m'Regressors'\u001b[0m\u001b[1;33m]\u001b[0m\u001b[1;33m,\u001b[0m \u001b[0mcv_score\u001b[0m\u001b[1;33m[\u001b[0m\u001b[1;34m'RMSE_mean'\u001b[0m\u001b[1;33m]\u001b[0m\u001b[1;33m)\u001b[0m\u001b[1;33m\u001b[0m\u001b[1;33m\u001b[0m\u001b[0m\n\u001b[0m\u001b[0;32m      3\u001b[0m \u001b[0mplt\u001b[0m\u001b[1;33m.\u001b[0m\u001b[0mxlabel\u001b[0m\u001b[1;33m(\u001b[0m\u001b[1;34m'Regressors'\u001b[0m\u001b[1;33m,\u001b[0m \u001b[0mfontsize\u001b[0m\u001b[1;33m=\u001b[0m\u001b[1;36m16\u001b[0m\u001b[1;33m)\u001b[0m\u001b[1;33m\u001b[0m\u001b[1;33m\u001b[0m\u001b[0m\n\u001b[0;32m      4\u001b[0m \u001b[0mplt\u001b[0m\u001b[1;33m.\u001b[0m\u001b[0mylabel\u001b[0m\u001b[1;33m(\u001b[0m\u001b[1;34m'CV_Mean_RMSE'\u001b[0m\u001b[1;33m,\u001b[0m \u001b[0mfontsize\u001b[0m\u001b[1;33m=\u001b[0m\u001b[1;36m16\u001b[0m\u001b[1;33m)\u001b[0m\u001b[1;33m\u001b[0m\u001b[1;33m\u001b[0m\u001b[0m\n\u001b[0;32m      5\u001b[0m \u001b[0mplt\u001b[0m\u001b[1;33m.\u001b[0m\u001b[0mxticks\u001b[0m\u001b[1;33m(\u001b[0m\u001b[0mrotation\u001b[0m\u001b[1;33m=\u001b[0m\u001b[1;36m45\u001b[0m\u001b[1;33m,\u001b[0m \u001b[0mfontsize\u001b[0m\u001b[1;33m=\u001b[0m\u001b[1;36m12\u001b[0m\u001b[1;33m)\u001b[0m\u001b[1;33m\u001b[0m\u001b[1;33m\u001b[0m\u001b[0m\n",
      "\u001b[1;31mNameError\u001b[0m: name 'cv_score' is not defined"
     ]
    },
    {
     "data": {
      "text/plain": [
       "<Figure size 1080x792 with 0 Axes>"
      ]
     },
     "metadata": {},
     "output_type": "display_data"
    }
   ],
   "source": [
    "plt.figure(figsize=(15, 11))\n",
    "sb.barplot(cv_score['Regressors'], cv_score['RMSE_mean'])\n",
    "plt.xlabel('Regressors', fontsize=16)\n",
    "plt.ylabel('CV_Mean_RMSE', fontsize=16)\n",
    "plt.xticks(rotation=45, fontsize=12)\n",
    "plt.yticks(fontsize=12)\n",
    "plt.show()"
   ]
  },
  {
   "cell_type": "code",
   "execution_count": null,
   "metadata": {
    "execution": {
     "iopub.execute_input": "2021-03-02T04:12:51.536192Z",
     "iopub.status.busy": "2021-03-02T04:12:51.535094Z",
     "iopub.status.idle": "2021-03-02T04:12:56.000320Z",
     "shell.execute_reply": "2021-03-02T04:12:56.001031Z"
    },
    "papermill": {
     "duration": 4.517906,
     "end_time": "2021-03-02T04:12:56.001242",
     "exception": false,
     "start_time": "2021-03-02T04:12:51.483336",
     "status": "completed"
    },
    "tags": []
   },
   "outputs": [],
   "source": [
    "predictions = {}\n",
    "\n",
    "def xgbr(X_train, y_train, X_test):\n",
    "    xgbrM = xg.XGBRegressor()\n",
    "    params = {'max_depth': [3, 4, 5, 6, 7, 8],\n",
    "              'min_child_weight': [0, 4, 5, 6, 7, 8],\n",
    "              'learning_rate': [0.01, 0.05, 0.1, 0.2, 0.25, 0.8, 1],\n",
    "              'n_estimators': [10, 30, 50, 100, 200, 400, 1000]}\n",
    "\n",
    "    grid_search_xg = RandomizedSearchCV(estimator=xgbrM, scoring='neg_root_mean_squared_error', param_distributions=params, n_iter=200, cv=4, verbose=2,\n",
    "                                         random_state=42, n_jobs=-1)\n",
    "    grid_search_xg.fit(X_train, y_train)\n",
    "    xgbrModel = grid_search_xg.best_estimator_\n",
    "    print('Best params(XGBR):',grid_search_xg.best_params_)\n",
    "    print('RMSE(XGBR):', -grid_search_xg.best_score_)\n",
    "    return xgbrModel\n",
    "\n",
    "#xgbrModel = xgbr(X_train, y_train, X_test)\n",
    "xgbrModel = xg.XGBRegressor(n_estimators=400, min_child_weight=5, max_depth=7, learning_rate=0.05)\n",
    "xgbrModel.fit(X_train, y_train)\n",
    "predictions['XGBR'] = xgbrModel.predict(X_test)"
   ]
  },
  {
   "cell_type": "code",
   "execution_count": null,
   "metadata": {
    "execution": {
     "iopub.execute_input": "2021-03-02T04:12:56.105622Z",
     "iopub.status.busy": "2021-03-02T04:12:56.103895Z",
     "iopub.status.idle": "2021-03-02T04:12:56.128582Z",
     "shell.execute_reply": "2021-03-02T04:12:56.129508Z"
    },
    "papermill": {
     "duration": 0.082786,
     "end_time": "2021-03-02T04:12:56.129780",
     "exception": false,
     "start_time": "2021-03-02T04:12:56.046994",
     "status": "completed"
    },
    "tags": []
   },
   "outputs": [],
   "source": [
    "def ridge(X_train, y_train, X_test):\n",
    "    alpha_ridge = {'alpha': [-3, -2, -1, 1e-15, 1e-10, 1e-8, 1e-5, 1e-4, 1e-3, 1e-2, 0.5, 1, 1.5, 2, 3, 4, 5, 10, 20, 30, 40]}\n",
    "\n",
    "    rd = Ridge()\n",
    "    grid_search_rd = GridSearchCV(estimator=rd, scoring='neg_root_mean_squared_error', param_grid=alpha_ridge, cv=4, n_jobs=-1, verbose=3)\n",
    "    grid_search_rd.fit(X_train, y_train)\n",
    "    ridgeModel = grid_search_rd.best_estimator_\n",
    "    print('Best params(Ridge):', grid_search_rd.best_params_)\n",
    "    print('RMSE(Ridge):', -grid_search_rd.best_score_)\n",
    "    return ridgeModel\n",
    "\n",
    "#ridgeModel = ridge(X_train, y_train, X_test)\n",
    "ridgeModel = Ridge(alpha=10)\n",
    "ridgeModel.fit(X_train, y_train)\n",
    "predictions['Ridge'] = ridgeModel.predict(X_test)"
   ]
  },
  {
   "cell_type": "code",
   "execution_count": 10,
   "metadata": {
    "execution": {
     "iopub.execute_input": "2021-03-02T04:12:56.325786Z",
     "iopub.status.busy": "2021-03-02T04:12:56.324767Z",
     "iopub.status.idle": "2021-03-02T04:12:59.352091Z",
     "shell.execute_reply": "2021-03-02T04:12:59.351072Z"
    },
    "papermill": {
     "duration": 3.099952,
     "end_time": "2021-03-02T04:12:59.352249",
     "exception": false,
     "start_time": "2021-03-02T04:12:56.252297",
     "status": "completed"
    },
    "tags": []
   },
   "outputs": [
    {
     "ename": "NameError",
     "evalue": "name 'CatBoostRegressor' is not defined",
     "output_type": "error",
     "traceback": [
      "\u001b[1;31m---------------------------------------------------------------------------\u001b[0m",
      "\u001b[1;31mNameError\u001b[0m                                 Traceback (most recent call last)",
      "\u001b[1;32m<ipython-input-10-9e85a85baec3>\u001b[0m in \u001b[0;36m<module>\u001b[1;34m\u001b[0m\n\u001b[0;32m     14\u001b[0m \u001b[1;33m\u001b[0m\u001b[0m\n\u001b[0;32m     15\u001b[0m \u001b[1;31m#catModel = catBoost(X_train, y_train, X_test)\u001b[0m\u001b[1;33m\u001b[0m\u001b[1;33m\u001b[0m\u001b[1;33m\u001b[0m\u001b[0m\n\u001b[1;32m---> 16\u001b[1;33m \u001b[0mcatModel\u001b[0m \u001b[1;33m=\u001b[0m \u001b[0mCatBoostRegressor\u001b[0m\u001b[1;33m(\u001b[0m\u001b[0mverbose\u001b[0m\u001b[1;33m=\u001b[0m\u001b[1;36m0\u001b[0m\u001b[1;33m,\u001b[0m \u001b[0mallow_writing_files\u001b[0m\u001b[1;33m=\u001b[0m\u001b[1;32mFalse\u001b[0m\u001b[1;33m,\u001b[0m \u001b[0mlearning_rate\u001b[0m\u001b[1;33m=\u001b[0m\u001b[1;36m0.05\u001b[0m\u001b[1;33m,\u001b[0m \u001b[0ml2_leaf_reg\u001b[0m\u001b[1;33m=\u001b[0m\u001b[1;36m2\u001b[0m\u001b[1;33m,\u001b[0m \u001b[0mdepth\u001b[0m\u001b[1;33m=\u001b[0m\u001b[1;36m4\u001b[0m\u001b[1;33m)\u001b[0m\u001b[1;33m\u001b[0m\u001b[1;33m\u001b[0m\u001b[0m\n\u001b[0m\u001b[0;32m     17\u001b[0m \u001b[0mcatModel\u001b[0m\u001b[1;33m.\u001b[0m\u001b[0mfit\u001b[0m\u001b[1;33m(\u001b[0m\u001b[0mX_train\u001b[0m\u001b[1;33m,\u001b[0m \u001b[0my_train\u001b[0m\u001b[1;33m)\u001b[0m\u001b[1;33m\u001b[0m\u001b[1;33m\u001b[0m\u001b[0m\n\u001b[0;32m     18\u001b[0m \u001b[0mpredictions\u001b[0m\u001b[1;33m[\u001b[0m\u001b[1;34m'CatBoost'\u001b[0m\u001b[1;33m]\u001b[0m \u001b[1;33m=\u001b[0m \u001b[0mcatModel\u001b[0m\u001b[1;33m.\u001b[0m\u001b[0mpredict\u001b[0m\u001b[1;33m(\u001b[0m\u001b[0mX_test\u001b[0m\u001b[1;33m)\u001b[0m\u001b[1;33m\u001b[0m\u001b[1;33m\u001b[0m\u001b[0m\n",
      "\u001b[1;31mNameError\u001b[0m: name 'CatBoostRegressor' is not defined"
     ]
    }
   ],
   "source": [
    "def catBoost(X_train, y_train, X_test):\n",
    "    catM = CatBoostRegressor(verbose=0, allow_writing_files=False)\n",
    "    params = {'learning_rate': [0.01, 0.05, 0.005, 0.0005],\n",
    "              'depth': [4, 6, 10],\n",
    "              'l2_leaf_reg': [1, 2, 3, 5, 9]}\n",
    "\n",
    "    grid_search_cat = RandomizedSearchCV(estimator=catM, scoring='neg_root_mean_squared_error', param_distributions=params, n_iter=10, cv=4, verbose=2,\n",
    "                                     random_state=42, n_jobs=-1)\n",
    "    grid_search_cat.fit(X_train, y_train)\n",
    "    catModel = grid_search_cat.best_estimator_\n",
    "    print('Best params(CatBoost):',grid_search_cat.best_params_)\n",
    "    print('RMSE(CatBoost):', -grid_search_cat.best_score_)\n",
    "    return catModel\n",
    "\n",
    "#catModel = catBoost(X_train, y_train, X_test)\n",
    "catModel = CatBoostRegressor(verbose=0, allow_writing_files=False, learning_rate=0.05, l2_leaf_reg=2, depth=4)\n",
    "catModel.fit(X_train, y_train)\n",
    "predictions['CatBoost'] = catModel.predict(X_test)"
   ]
  },
  {
   "cell_type": "code",
   "execution_count": null,
   "metadata": {
    "execution": {
     "iopub.execute_input": "2021-03-02T04:12:59.442939Z",
     "iopub.status.busy": "2021-03-02T04:12:59.442102Z",
     "iopub.status.idle": "2021-03-02T04:12:59.446297Z",
     "shell.execute_reply": "2021-03-02T04:12:59.445685Z"
    },
    "papermill": {
     "duration": 0.051477,
     "end_time": "2021-03-02T04:12:59.446467",
     "exception": false,
     "start_time": "2021-03-02T04:12:59.394990",
     "status": "completed"
    },
    "tags": []
   },
   "outputs": [],
   "source": [
    "final_prediction = 0.25 * predictions['XGBR'] + 0.35 * predictions['CatBoost'] + 0.4 * predictions['Ridge']"
   ]
  },
  {
   "cell_type": "code",
   "execution_count": null,
   "metadata": {
    "execution": {
     "iopub.execute_input": "2021-03-02T04:12:59.544156Z",
     "iopub.status.busy": "2021-03-02T04:12:59.543444Z",
     "iopub.status.idle": "2021-03-02T04:12:59.562279Z",
     "shell.execute_reply": "2021-03-02T04:12:59.561696Z"
    },
    "papermill": {
     "duration": 0.071637,
     "end_time": "2021-03-02T04:12:59.562426",
     "exception": false,
     "start_time": "2021-03-02T04:12:59.490789",
     "status": "completed"
    },
    "tags": []
   },
   "outputs": [],
   "source": [
    "result = pd.DataFrame([len(y_train) + 1 + i for i in range(len(X_test))], columns=['Id'])\n",
    "result[target_name] = np.expm1(final_prediction)\n",
    "result.to_csv('result.csv', index=False, header=True)\n",
    "result"
   ]
  },
  {
   "cell_type": "code",
   "execution_count": null,
   "metadata": {},
   "outputs": [],
   "source": []
  },
  {
   "cell_type": "code",
   "execution_count": null,
   "metadata": {},
   "outputs": [],
   "source": []
  },
  {
   "cell_type": "code",
   "execution_count": null,
   "metadata": {},
   "outputs": [],
   "source": []
  },
  {
   "cell_type": "code",
   "execution_count": null,
   "metadata": {},
   "outputs": [],
   "source": []
  },
  {
   "cell_type": "code",
   "execution_count": null,
   "metadata": {},
   "outputs": [],
   "source": []
  },
  {
   "cell_type": "code",
   "execution_count": null,
   "metadata": {},
   "outputs": [],
   "source": []
  },
  {
   "cell_type": "code",
   "execution_count": null,
   "metadata": {},
   "outputs": [],
   "source": []
  },
  {
   "cell_type": "code",
   "execution_count": null,
   "metadata": {},
   "outputs": [],
   "source": []
  },
  {
   "cell_type": "code",
   "execution_count": null,
   "metadata": {},
   "outputs": [],
   "source": []
  },
  {
   "cell_type": "code",
   "execution_count": null,
   "metadata": {},
   "outputs": [],
   "source": []
  },
  {
   "cell_type": "code",
   "execution_count": null,
   "metadata": {},
   "outputs": [],
   "source": []
  },
  {
   "cell_type": "code",
   "execution_count": null,
   "metadata": {},
   "outputs": [],
   "source": []
  },
  {
   "cell_type": "code",
   "execution_count": null,
   "metadata": {},
   "outputs": [],
   "source": []
  },
  {
   "cell_type": "code",
   "execution_count": null,
   "metadata": {},
   "outputs": [],
   "source": []
  },
  {
   "cell_type": "code",
   "execution_count": null,
   "metadata": {},
   "outputs": [],
   "source": []
  }
 ],
 "metadata": {
  "kernelspec": {
   "display_name": "Python 3",
   "language": "python",
   "name": "python3"
  },
  "language_info": {
   "codemirror_mode": {
    "name": "ipython",
    "version": 3
   },
   "file_extension": ".py",
   "mimetype": "text/x-python",
   "name": "python",
   "nbconvert_exporter": "python",
   "pygments_lexer": "ipython3",
   "version": "3.7.9"
  },
  "papermill": {
   "default_parameters": {},
   "duration": 281.930979,
   "end_time": "2021-03-02T04:13:00.316200",
   "environment_variables": {},
   "exception": null,
   "input_path": "__notebook__.ipynb",
   "output_path": "__notebook__.ipynb",
   "parameters": {},
   "start_time": "2021-03-02T04:08:18.385221",
   "version": "2.2.2"
  }
 },
 "nbformat": 4,
 "nbformat_minor": 4
}
